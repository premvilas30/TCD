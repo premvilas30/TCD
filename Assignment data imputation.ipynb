{
 "cells": [
  {
   "cell_type": "code",
   "execution_count": 1,
   "metadata": {},
   "outputs": [],
   "source": [
    "import pandas as pd\n",
    "import numpy as np\n",
    "import matplotlib.pyplot as plt\n",
    "import seaborn as sns\n",
    "from sklearn.linear_model import LogisticRegression\n",
    "from sklearn.linear_model import LinearRegression\n",
    "import random\n",
    "import warnings\n",
    "warnings.simplefilter(action='ignore', category=FutureWarning)\n",
    "from xgboost import XGBRegressor"
   ]
  },
  {
   "cell_type": "code",
   "execution_count": 2,
   "metadata": {},
   "outputs": [],
   "source": [
    "dataset = pd.read_csv('siswave3v4impute3.csv', low_memory=False)"
   ]
  },
  {
   "cell_type": "code",
   "execution_count": 3,
   "metadata": {},
   "outputs": [
    {
     "name": "stdout",
     "output_type": "stream",
     "text": [
      "Total rows in the dataset is 1501\n"
     ]
    }
   ],
   "source": [
    "print('Total rows in the dataset is',len(dataset))\n",
    "#print(pd.DataFrame(dataset['rearn'].describe()))"
   ]
  },
  {
   "cell_type": "code",
   "execution_count": 4,
   "metadata": {},
   "outputs": [],
   "source": [
    "missing_data_value = dataset[dataset['rearn'].isnull()]\n",
    "all_values = dataset.dropna(subset = ['rearn'])\n",
    "all_values = all_values.dropna(axis = 1)"
   ]
  },
  {
   "cell_type": "code",
   "execution_count": 5,
   "metadata": {},
   "outputs": [
    {
     "data": {
      "text/plain": [
       "(1348, 212)"
      ]
     },
     "execution_count": 5,
     "metadata": {},
     "output_type": "execute_result"
    }
   ],
   "source": [
    "len(all_values)\n",
    "all_values.shape"
   ]
  },
  {
   "cell_type": "code",
   "execution_count": 6,
   "metadata": {},
   "outputs": [],
   "source": [
    "all_values = pd.get_dummies(all_values)\n",
    "corr = all_values.corr()\n",
    "corr['column_names'] = corr.index"
   ]
  },
  {
   "cell_type": "code",
   "execution_count": 7,
   "metadata": {},
   "outputs": [
    {
     "name": "stderr",
     "output_type": "stream",
     "text": [
      "C:\\Users\\rohit\\Anaconda3\\lib\\site-packages\\ipykernel_launcher.py:2: SettingWithCopyWarning: \n",
      "A value is trying to be set on a copy of a slice from a DataFrame.\n",
      "Try using .loc[row_indexer,col_indexer] = value instead\n",
      "\n",
      "See the caveats in the documentation: http://pandas.pydata.org/pandas-docs/stable/indexing.html#indexing-view-versus-copy\n",
      "  \n"
     ]
    }
   ],
   "source": [
    "sorted_correlation = corr[['rearn', 'column_names']]\n",
    "sorted_correlation['rearn'] = abs(sorted_correlation['rearn'])\n",
    "sorted_correlation = (sorted_correlation.sort_values('rearn', ascending=False))"
   ]
  },
  {
   "cell_type": "code",
   "execution_count": 8,
   "metadata": {},
   "outputs": [
    {
     "data": {
      "text/plain": [
       "<matplotlib.axes._subplots.AxesSubplot at 0x12c19840438>"
      ]
     },
     "execution_count": 8,
     "metadata": {},
     "output_type": "execute_result"
    },
    {
     "data": {
      "image/png": "[encoded data removed]",
      "text/plain": [
       "<Figure size 576x576 with 2 Axes>"
      ]
     },
     "metadata": {},
     "output_type": "display_data"
    }
   ],
   "source": [
    "dataset = dataset[['rearn','xrearn','xrearn2','xpearn','xpearn2','zprearn', 'workhrs', 'workmos']]\n",
    "f, ax = plt.subplots(figsize=(8, 8))\n",
    "corr_data = dataset.corr()\n",
    "sns.heatmap(corr_data, mask=np.zeros_like(corr_data, dtype=np.bool), cmap=sns.diverging_palette(220, 10, as_cmap=True),\n",
    "            square=True, ax=ax)"
   ]
  },
  {
   "cell_type": "code",
   "execution_count": 9,
   "metadata": {},
   "outputs": [],
   "source": [
    "all_values = all_values[['rearn','xrearn','xrearn2','xpearn','xpearn2','zprearn', 'workhrs', 'workmos']]\n",
    "all_values['rearn_dummy'] = np.where(all_values['rearn'] > 0, 1, 0)"
   ]
  },
  {
   "cell_type": "code",
   "execution_count": 10,
   "metadata": {},
   "outputs": [
    {
     "data": {
      "text/html": [
       "<div>\n",
       "<style scoped>\n",
       "    .dataframe tbody tr th:only-of-type {\n",
       "        vertical-align: middle;\n",
       "    }\n",
       "\n",
       "    .dataframe tbody tr th {\n",
       "        vertical-align: top;\n",
       "    }\n",
       "\n",
       "    .dataframe thead th {\n",
       "        text-align: right;\n",
       "    }\n",
       "</style>\n",
       "<table border=\"1\" class=\"dataframe\">\n",
       "  <thead>\n",
       "    <tr style=\"text-align: right;\">\n",
       "      <th></th>\n",
       "      <th>rearn</th>\n",
       "      <th>xrearn</th>\n",
       "      <th>xrearn2</th>\n",
       "      <th>xpearn</th>\n",
       "      <th>xpearn2</th>\n",
       "      <th>zprearn</th>\n",
       "      <th>workhrs</th>\n",
       "      <th>workmos</th>\n",
       "    </tr>\n",
       "  </thead>\n",
       "  <tbody>\n",
       "    <tr>\n",
       "      <th>count</th>\n",
       "      <td>1.348000e+03</td>\n",
       "      <td>1.494000e+03</td>\n",
       "      <td>1494.000000</td>\n",
       "      <td>1.495000e+03</td>\n",
       "      <td>1495.000000</td>\n",
       "      <td>1501.000000</td>\n",
       "      <td>1501.000000</td>\n",
       "      <td>1501.000000</td>\n",
       "    </tr>\n",
       "    <tr>\n",
       "      <th>mean</th>\n",
       "      <td>3.032931e+04</td>\n",
       "      <td>3.031399e+04</td>\n",
       "      <td>132.109625</td>\n",
       "      <td>4.189653e+04</td>\n",
       "      <td>163.445236</td>\n",
       "      <td>32407.801171</td>\n",
       "      <td>33.808195</td>\n",
       "      <td>8.985343</td>\n",
       "    </tr>\n",
       "    <tr>\n",
       "      <th>std</th>\n",
       "      <td>6.578292e+04</td>\n",
       "      <td>6.248376e+04</td>\n",
       "      <td>113.444503</td>\n",
       "      <td>9.395059e+04</td>\n",
       "      <td>123.257225</td>\n",
       "      <td>29605.593364</td>\n",
       "      <td>19.374217</td>\n",
       "      <td>4.710391</td>\n",
       "    </tr>\n",
       "    <tr>\n",
       "      <th>min</th>\n",
       "      <td>0.000000e+00</td>\n",
       "      <td>0.000000e+00</td>\n",
       "      <td>0.000000</td>\n",
       "      <td>0.000000e+00</td>\n",
       "      <td>0.000000</td>\n",
       "      <td>0.000000</td>\n",
       "      <td>0.000000</td>\n",
       "      <td>0.000000</td>\n",
       "    </tr>\n",
       "    <tr>\n",
       "      <th>25%</th>\n",
       "      <td>0.000000e+00</td>\n",
       "      <td>0.000000e+00</td>\n",
       "      <td>0.000000</td>\n",
       "      <td>7.500000e+03</td>\n",
       "      <td>86.602539</td>\n",
       "      <td>7500.000000</td>\n",
       "      <td>26.000000</td>\n",
       "      <td>7.000000</td>\n",
       "    </tr>\n",
       "    <tr>\n",
       "      <th>50%</th>\n",
       "      <td>1.600000e+04</td>\n",
       "      <td>2.000000e+04</td>\n",
       "      <td>141.421356</td>\n",
       "      <td>3.000000e+04</td>\n",
       "      <td>173.205078</td>\n",
       "      <td>26977.791020</td>\n",
       "      <td>40.000000</td>\n",
       "      <td>12.000000</td>\n",
       "    </tr>\n",
       "    <tr>\n",
       "      <th>75%</th>\n",
       "      <td>3.900000e+04</td>\n",
       "      <td>3.500000e+04</td>\n",
       "      <td>187.082871</td>\n",
       "      <td>4.500000e+04</td>\n",
       "      <td>212.132034</td>\n",
       "      <td>50000.000000</td>\n",
       "      <td>42.299999</td>\n",
       "      <td>12.000000</td>\n",
       "    </tr>\n",
       "    <tr>\n",
       "      <th>max</th>\n",
       "      <td>1.500000e+06</td>\n",
       "      <td>1.500000e+06</td>\n",
       "      <td>1224.744873</td>\n",
       "      <td>2.500000e+06</td>\n",
       "      <td>1581.138794</td>\n",
       "      <td>100000.992200</td>\n",
       "      <td>90.000000</td>\n",
       "      <td>12.000000</td>\n",
       "    </tr>\n",
       "  </tbody>\n",
       "</table>\n",
       "</div>"
      ],
      "text/plain": [
       "              rearn        xrearn      xrearn2        xpearn      xpearn2  \\\n",
       "count  1.348000e+03  1.494000e+03  1494.000000  1.495000e+03  1495.000000   \n",
       "mean   3.032931e+04  3.031399e+04   132.109625  4.189653e+04   163.445236   \n",
       "std    6.578292e+04  6.248376e+04   113.444503  9.395059e+04   123.257225   \n",
       "min    0.000000e+00  0.000000e+00     0.000000  0.000000e+00     0.000000   \n",
       "25%    0.000000e+00  0.000000e+00     0.000000  7.500000e+03    86.602539   \n",
       "50%    1.600000e+04  2.000000e+04   141.421356  3.000000e+04   173.205078   \n",
       "75%    3.900000e+04  3.500000e+04   187.082871  4.500000e+04   212.132034   \n",
       "max    1.500000e+06  1.500000e+06  1224.744873  2.500000e+06  1581.138794   \n",
       "\n",
       "             zprearn      workhrs      workmos  \n",
       "count    1501.000000  1501.000000  1501.000000  \n",
       "mean    32407.801171    33.808195     8.985343  \n",
       "std     29605.593364    19.374217     4.710391  \n",
       "min         0.000000     0.000000     0.000000  \n",
       "25%      7500.000000    26.000000     7.000000  \n",
       "50%     26977.791020    40.000000    12.000000  \n",
       "75%     50000.000000    42.299999    12.000000  \n",
       "max    100000.992200    90.000000    12.000000  "
      ]
     },
     "execution_count": 10,
     "metadata": {},
     "output_type": "execute_result"
    }
   ],
   "source": [
    "dataset.describe()"
   ]
  },
  {
   "cell_type": "code",
   "execution_count": 11,
   "metadata": {},
   "outputs": [
    {
     "data": {
      "text/plain": [
       "Text(0,0.5,'Earnings')"
      ]
     },
     "execution_count": 11,
     "metadata": {},
     "output_type": "execute_result"
    },
    {
     "data": {
      "image/png": "[encoded data removed]",
      "text/plain": [
       "<Figure size 432x288 with 1 Axes>"
      ]
     },
     "metadata": {},
     "output_type": "display_data"
    }
   ],
   "source": [
    "#Plotting the mean of workhours for each class of earners\n",
    "#sns.barplot(x='earners',y='workhrs',data=dataset, palette=\"muted\")\n",
    "sns.regplot(\"workhrs\", y=\"rearn\", data=dataset, color= 'red')\n",
    "plt.ylim(0, 420000)\n",
    "plt.xlabel('Work hours')\n",
    "plt.ylabel('Earnings')"
   ]
  },
  {
   "cell_type": "code",
   "execution_count": 12,
   "metadata": {},
   "outputs": [
    {
     "name": "stdout",
     "output_type": "stream",
     "text": [
      "153\n"
     ]
    },
    {
     "data": {
      "text/plain": [
       "Text(0.5,1,'Random Imputation between minimum and maximum values')"
      ]
     },
     "execution_count": 12,
     "metadata": {},
     "output_type": "execute_result"
    },
    {
     "data": {
      "image/png": "[encoded data removed]",
      "text/plain": [
       "<Figure size 422.625x360 with 1 Axes>"
      ]
     },
     "metadata": {},
     "output_type": "display_data"
    }
   ],
   "source": [
    "pd.options.mode.chained_assignment = None\n",
    "\n",
    "#Random Imputation\n",
    "missing_data_value = missing_data_value[['rearn','xrearn','xrearn2','xpearn','xpearn2','zprearn', 'workhrs', 'workmos']]\n",
    "missing_data_value['is_imputed'] = 'Yes'\n",
    "\n",
    "train = all_values\n",
    "x_value = pd.DataFrame(columns = ['rearn'])\n",
    "for i in range(0,153):\n",
    "    c = random.randint(0,420000)\n",
    "    x_value.loc[i,'rearn'] = c\n",
    "    \n",
    "missing_data_value['rearn'] = x_value.rearn\n",
    "print(len(missing_data_value))\n",
    "train['is_imputed'] = 'No'\n",
    "dataset_random = train.append(missing_data_value)\n",
    "\n",
    "sns.lmplot(\"workhrs\", y=\"rearn\", data=dataset_random, hue= 'is_imputed', palette=\"Set2_r\", markers=[\"x\", \"o\"])\n",
    "plt.ylim(0, 420000)\n",
    "plt.xlabel('Work hours')\n",
    "plt.ylabel('Earnings')\n",
    "plt.title('Random Imputation between minimum and maximum values')"
   ]
  },
  {
   "cell_type": "code",
   "execution_count": 13,
   "metadata": {},
   "outputs": [],
   "source": [
    "#Training a logistic regression model to impute the missing values of earnings\n",
    "pd.options.mode.chained_assignment = None\n",
    "earnings = all_values['rearn_dummy']\n",
    "new_train = all_values.drop(['rearn', 'rearn_dummy', 'is_imputed'], axis = 1)\n",
    "train = new_train[['xrearn','xrearn2','xpearn','xpearn2','zprearn']]\n",
    "train_list = list(train.columns)\n",
    "new_train = np.array(train)\n",
    "\n",
    "#Training a linear regression model to impute the missing values of earnings\n",
    "#test = missing_data_value.drop(['rearn_dummy'], axis = 1)\n",
    "missing_data_value = missing_data_value.drop(['is_imputed', 'rearn'], axis = 1)\n",
    "missing_data = missing_data_value[['xrearn','xrearn2','xpearn','xpearn2','zprearn']]\n",
    "missing_data = missing_data.fillna(0)\n",
    "test = np.array(missing_data)\n",
    "\n",
    "\n",
    "#Making models to predict missing values\n",
    "model = LogisticRegression().fit(new_train, earnings)\n",
    "pred = model.predict(test)\n",
    "\n",
    "all_values['is_imputed'] = 'No'\n",
    "missing_data_value['rearn_dummy'] = pred\n",
    "missing_data_value['rearn'] = np.where(pred > 0, 'NaN',0)\n",
    "\n",
    "missing_data_value['is_imputed'] = 'Yes'\n",
    "dataset_logistic = all_values.append(missing_data_value)"
   ]
  },
  {
   "cell_type": "code",
   "execution_count": 14,
   "metadata": {},
   "outputs": [],
   "source": [
    "dataset_logistic['rearn'] = dataset_logistic['rearn'].astype('float')\n",
    "new_missing_data_value = dataset_logistic[dataset_logistic['rearn'].isnull()]\n",
    "new_all_values = dataset_logistic.dropna(subset = ['rearn'])\n"
   ]
  },
  {
   "cell_type": "code",
   "execution_count": 15,
   "metadata": {},
   "outputs": [
    {
     "data": {
      "text/plain": [
       "149"
      ]
     },
     "execution_count": 15,
     "metadata": {},
     "output_type": "execute_result"
    }
   ],
   "source": [
    "len(new_missing_data_value)"
   ]
  },
  {
   "cell_type": "code",
   "execution_count": 16,
   "metadata": {},
   "outputs": [
    {
     "data": {
      "text/html": [
       "<div>\n",
       "<style scoped>\n",
       "    .dataframe tbody tr th:only-of-type {\n",
       "        vertical-align: middle;\n",
       "    }\n",
       "\n",
       "    .dataframe tbody tr th {\n",
       "        vertical-align: top;\n",
       "    }\n",
       "\n",
       "    .dataframe thead th {\n",
       "        text-align: right;\n",
       "    }\n",
       "</style>\n",
       "<table border=\"1\" class=\"dataframe\">\n",
       "  <thead>\n",
       "    <tr style=\"text-align: right;\">\n",
       "      <th></th>\n",
       "      <th>rearn</th>\n",
       "      <th>rearn_dummy</th>\n",
       "      <th>workhrs</th>\n",
       "      <th>workmos</th>\n",
       "      <th>xpearn</th>\n",
       "      <th>xpearn2</th>\n",
       "      <th>xrearn</th>\n",
       "      <th>xrearn2</th>\n",
       "      <th>zprearn</th>\n",
       "    </tr>\n",
       "  </thead>\n",
       "  <tbody>\n",
       "    <tr>\n",
       "      <th>count</th>\n",
       "      <td>1.352000e+03</td>\n",
       "      <td>1352.000000</td>\n",
       "      <td>1352.000000</td>\n",
       "      <td>1352.000000</td>\n",
       "      <td>1.349000e+03</td>\n",
       "      <td>1349.000000</td>\n",
       "      <td>1.348000e+03</td>\n",
       "      <td>1348.000000</td>\n",
       "      <td>1352.000000</td>\n",
       "    </tr>\n",
       "    <tr>\n",
       "      <th>mean</th>\n",
       "      <td>3.023958e+04</td>\n",
       "      <td>0.707101</td>\n",
       "      <td>33.123743</td>\n",
       "      <td>8.801036</td>\n",
       "      <td>4.189788e+04</td>\n",
       "      <td>159.021174</td>\n",
       "      <td>3.032931e+04</td>\n",
       "      <td>127.604752</td>\n",
       "      <td>32127.801730</td>\n",
       "    </tr>\n",
       "    <tr>\n",
       "      <th>std</th>\n",
       "      <td>6.570613e+04</td>\n",
       "      <td>0.455261</td>\n",
       "      <td>19.890323</td>\n",
       "      <td>4.841337</td>\n",
       "      <td>9.889137e+04</td>\n",
       "      <td>128.928166</td>\n",
       "      <td>6.578292e+04</td>\n",
       "      <td>118.561231</td>\n",
       "      <td>30642.968417</td>\n",
       "    </tr>\n",
       "    <tr>\n",
       "      <th>min</th>\n",
       "      <td>0.000000e+00</td>\n",
       "      <td>0.000000</td>\n",
       "      <td>0.000000</td>\n",
       "      <td>0.000000</td>\n",
       "      <td>0.000000e+00</td>\n",
       "      <td>0.000000</td>\n",
       "      <td>0.000000e+00</td>\n",
       "      <td>0.000000</td>\n",
       "      <td>0.000000</td>\n",
       "    </tr>\n",
       "    <tr>\n",
       "      <th>25%</th>\n",
       "      <td>0.000000e+00</td>\n",
       "      <td>0.000000</td>\n",
       "      <td>20.000000</td>\n",
       "      <td>6.000000</td>\n",
       "      <td>6.000000e+03</td>\n",
       "      <td>77.459663</td>\n",
       "      <td>0.000000e+00</td>\n",
       "      <td>0.000000</td>\n",
       "      <td>5999.999512</td>\n",
       "    </tr>\n",
       "    <tr>\n",
       "      <th>50%</th>\n",
       "      <td>1.600000e+04</td>\n",
       "      <td>1.000000</td>\n",
       "      <td>40.000000</td>\n",
       "      <td>12.000000</td>\n",
       "      <td>2.688000e+04</td>\n",
       "      <td>163.951218</td>\n",
       "      <td>1.600000e+04</td>\n",
       "      <td>126.491104</td>\n",
       "      <td>24999.998050</td>\n",
       "    </tr>\n",
       "    <tr>\n",
       "      <th>75%</th>\n",
       "      <td>3.900000e+04</td>\n",
       "      <td>1.000000</td>\n",
       "      <td>42.299999</td>\n",
       "      <td>12.000000</td>\n",
       "      <td>5.000000e+04</td>\n",
       "      <td>223.606796</td>\n",
       "      <td>3.900000e+04</td>\n",
       "      <td>197.484177</td>\n",
       "      <td>50000.000000</td>\n",
       "    </tr>\n",
       "    <tr>\n",
       "      <th>max</th>\n",
       "      <td>1.500000e+06</td>\n",
       "      <td>1.000000</td>\n",
       "      <td>90.000000</td>\n",
       "      <td>12.000000</td>\n",
       "      <td>2.500000e+06</td>\n",
       "      <td>1581.138794</td>\n",
       "      <td>1.500000e+06</td>\n",
       "      <td>1224.744873</td>\n",
       "      <td>100000.992200</td>\n",
       "    </tr>\n",
       "  </tbody>\n",
       "</table>\n",
       "</div>"
      ],
      "text/plain": [
       "              rearn  rearn_dummy      workhrs      workmos        xpearn  \\\n",
       "count  1.352000e+03  1352.000000  1352.000000  1352.000000  1.349000e+03   \n",
       "mean   3.023958e+04     0.707101    33.123743     8.801036  4.189788e+04   \n",
       "std    6.570613e+04     0.455261    19.890323     4.841337  9.889137e+04   \n",
       "min    0.000000e+00     0.000000     0.000000     0.000000  0.000000e+00   \n",
       "25%    0.000000e+00     0.000000    20.000000     6.000000  6.000000e+03   \n",
       "50%    1.600000e+04     1.000000    40.000000    12.000000  2.688000e+04   \n",
       "75%    3.900000e+04     1.000000    42.299999    12.000000  5.000000e+04   \n",
       "max    1.500000e+06     1.000000    90.000000    12.000000  2.500000e+06   \n",
       "\n",
       "           xpearn2        xrearn      xrearn2        zprearn  \n",
       "count  1349.000000  1.348000e+03  1348.000000    1352.000000  \n",
       "mean    159.021174  3.032931e+04   127.604752   32127.801730  \n",
       "std     128.928166  6.578292e+04   118.561231   30642.968417  \n",
       "min       0.000000  0.000000e+00     0.000000       0.000000  \n",
       "25%      77.459663  0.000000e+00     0.000000    5999.999512  \n",
       "50%     163.951218  1.600000e+04   126.491104   24999.998050  \n",
       "75%     223.606796  3.900000e+04   197.484177   50000.000000  \n",
       "max    1581.138794  1.500000e+06  1224.744873  100000.992200  "
      ]
     },
     "execution_count": 16,
     "metadata": {},
     "output_type": "execute_result"
    }
   ],
   "source": [
    "new_all_values.describe()"
   ]
  },
  {
   "cell_type": "code",
   "execution_count": 17,
   "metadata": {},
   "outputs": [],
   "source": [
    "#Training a linear regression model to impute the missing values of earnings\n",
    "pd.options.mode.chained_assignment = None\n",
    "earnings = new_all_values['rearn']\n",
    "new_train = new_all_values.drop(['rearn', 'rearn_dummy', 'is_imputed'], axis = 1)\n",
    "new_train = new_train[['xrearn','xrearn2','xpearn','xpearn2','zprearn']]\n",
    "new_train = new_train.fillna(0)\n",
    "train_list = list(new_train.columns)\n",
    "new_train = np.array(new_train)\n",
    "\n",
    "#Training a linear regression model to impute the missing values of earnings\n",
    "#test = missing_data_value.drop(['rearn_dummy'], axis = 1)\n",
    "new_missing_data_value = new_missing_data_value.drop(['is_imputed', 'rearn'], axis = 1)\n",
    "missing_data = new_missing_data_value[['xrearn','xrearn2','xpearn','xpearn2','zprearn']]\n",
    "missing_data = missing_data.fillna(0)\n",
    "test = np.array(missing_data)\n",
    "\n",
    "\n",
    "#Making models to predict missing values\n",
    "model = LinearRegression().fit(new_train, earnings)\n",
    "pred = model.predict(test)\n",
    "\n",
    "new_all_values['is_imputed'] = 'No'\n",
    "new_missing_data_value['rearn'] = pred\n",
    "new_missing_data_value['is_imputed'] = 'Yes'\n",
    "dataset_linear = new_all_values.append(new_missing_data_value)"
   ]
  },
  {
   "cell_type": "code",
   "execution_count": 18,
   "metadata": {},
   "outputs": [
    {
     "name": "stdout",
     "output_type": "stream",
     "text": [
      "[ 1.00000000e+00  2.62645728e-14  4.93630135e-17 -2.45969195e-14\n",
      "  1.34976442e-16]\n",
      "-2.1827872842550278e-11\n"
     ]
    }
   ],
   "source": [
    "print(model.coef_)\n",
    "print(model.intercept_)"
   ]
  },
  {
   "cell_type": "code",
   "execution_count": 19,
   "metadata": {},
   "outputs": [
    {
     "data": {
      "text/html": [
       "<div>\n",
       "<style scoped>\n",
       "    .dataframe tbody tr th:only-of-type {\n",
       "        vertical-align: middle;\n",
       "    }\n",
       "\n",
       "    .dataframe tbody tr th {\n",
       "        vertical-align: top;\n",
       "    }\n",
       "\n",
       "    .dataframe thead th {\n",
       "        text-align: right;\n",
       "    }\n",
       "</style>\n",
       "<table border=\"1\" class=\"dataframe\">\n",
       "  <thead>\n",
       "    <tr style=\"text-align: right;\">\n",
       "      <th></th>\n",
       "      <th>rearn</th>\n",
       "      <th>rearn_dummy</th>\n",
       "      <th>workhrs</th>\n",
       "      <th>workmos</th>\n",
       "      <th>xpearn</th>\n",
       "      <th>xpearn2</th>\n",
       "      <th>xrearn</th>\n",
       "      <th>xrearn2</th>\n",
       "      <th>zprearn</th>\n",
       "    </tr>\n",
       "  </thead>\n",
       "  <tbody>\n",
       "    <tr>\n",
       "      <th>count</th>\n",
       "      <td>1.501000e+03</td>\n",
       "      <td>1501.000000</td>\n",
       "      <td>1501.000000</td>\n",
       "      <td>1501.000000</td>\n",
       "      <td>1.495000e+03</td>\n",
       "      <td>1495.000000</td>\n",
       "      <td>1.494000e+03</td>\n",
       "      <td>1494.000000</td>\n",
       "      <td>1501.000000</td>\n",
       "    </tr>\n",
       "    <tr>\n",
       "      <th>mean</th>\n",
       "      <td>3.017262e+04</td>\n",
       "      <td>0.736176</td>\n",
       "      <td>33.808195</td>\n",
       "      <td>8.985343</td>\n",
       "      <td>4.189653e+04</td>\n",
       "      <td>163.445236</td>\n",
       "      <td>3.031399e+04</td>\n",
       "      <td>132.109625</td>\n",
       "      <td>32407.801171</td>\n",
       "    </tr>\n",
       "    <tr>\n",
       "      <th>std</th>\n",
       "      <td>6.237202e+04</td>\n",
       "      <td>0.440852</td>\n",
       "      <td>19.374217</td>\n",
       "      <td>4.710391</td>\n",
       "      <td>9.395059e+04</td>\n",
       "      <td>123.257225</td>\n",
       "      <td>6.248376e+04</td>\n",
       "      <td>113.444503</td>\n",
       "      <td>29605.593364</td>\n",
       "    </tr>\n",
       "    <tr>\n",
       "      <th>min</th>\n",
       "      <td>-2.180375e-11</td>\n",
       "      <td>0.000000</td>\n",
       "      <td>0.000000</td>\n",
       "      <td>0.000000</td>\n",
       "      <td>0.000000e+00</td>\n",
       "      <td>0.000000</td>\n",
       "      <td>0.000000e+00</td>\n",
       "      <td>0.000000</td>\n",
       "      <td>0.000000</td>\n",
       "    </tr>\n",
       "    <tr>\n",
       "      <th>25%</th>\n",
       "      <td>0.000000e+00</td>\n",
       "      <td>0.000000</td>\n",
       "      <td>26.000000</td>\n",
       "      <td>7.000000</td>\n",
       "      <td>7.500000e+03</td>\n",
       "      <td>86.602539</td>\n",
       "      <td>0.000000e+00</td>\n",
       "      <td>0.000000</td>\n",
       "      <td>7500.000000</td>\n",
       "    </tr>\n",
       "    <tr>\n",
       "      <th>50%</th>\n",
       "      <td>2.000000e+04</td>\n",
       "      <td>1.000000</td>\n",
       "      <td>40.000000</td>\n",
       "      <td>12.000000</td>\n",
       "      <td>3.000000e+04</td>\n",
       "      <td>173.205078</td>\n",
       "      <td>2.000000e+04</td>\n",
       "      <td>141.421356</td>\n",
       "      <td>26977.791020</td>\n",
       "    </tr>\n",
       "    <tr>\n",
       "      <th>75%</th>\n",
       "      <td>3.500000e+04</td>\n",
       "      <td>1.000000</td>\n",
       "      <td>42.299999</td>\n",
       "      <td>12.000000</td>\n",
       "      <td>4.500000e+04</td>\n",
       "      <td>212.132034</td>\n",
       "      <td>3.500000e+04</td>\n",
       "      <td>187.082871</td>\n",
       "      <td>50000.000000</td>\n",
       "    </tr>\n",
       "    <tr>\n",
       "      <th>max</th>\n",
       "      <td>1.500000e+06</td>\n",
       "      <td>1.000000</td>\n",
       "      <td>90.000000</td>\n",
       "      <td>12.000000</td>\n",
       "      <td>2.500000e+06</td>\n",
       "      <td>1581.138794</td>\n",
       "      <td>1.500000e+06</td>\n",
       "      <td>1224.744873</td>\n",
       "      <td>100000.992200</td>\n",
       "    </tr>\n",
       "  </tbody>\n",
       "</table>\n",
       "</div>"
      ],
      "text/plain": [
       "              rearn  rearn_dummy      workhrs      workmos        xpearn  \\\n",
       "count  1.501000e+03  1501.000000  1501.000000  1501.000000  1.495000e+03   \n",
       "mean   3.017262e+04     0.736176    33.808195     8.985343  4.189653e+04   \n",
       "std    6.237202e+04     0.440852    19.374217     4.710391  9.395059e+04   \n",
       "min   -2.180375e-11     0.000000     0.000000     0.000000  0.000000e+00   \n",
       "25%    0.000000e+00     0.000000    26.000000     7.000000  7.500000e+03   \n",
       "50%    2.000000e+04     1.000000    40.000000    12.000000  3.000000e+04   \n",
       "75%    3.500000e+04     1.000000    42.299999    12.000000  4.500000e+04   \n",
       "max    1.500000e+06     1.000000    90.000000    12.000000  2.500000e+06   \n",
       "\n",
       "           xpearn2        xrearn      xrearn2        zprearn  \n",
       "count  1495.000000  1.494000e+03  1494.000000    1501.000000  \n",
       "mean    163.445236  3.031399e+04   132.109625   32407.801171  \n",
       "std     123.257225  6.248376e+04   113.444503   29605.593364  \n",
       "min       0.000000  0.000000e+00     0.000000       0.000000  \n",
       "25%      86.602539  0.000000e+00     0.000000    7500.000000  \n",
       "50%     173.205078  2.000000e+04   141.421356   26977.791020  \n",
       "75%     212.132034  3.500000e+04   187.082871   50000.000000  \n",
       "max    1581.138794  1.500000e+06  1224.744873  100000.992200  "
      ]
     },
     "execution_count": 19,
     "metadata": {},
     "output_type": "execute_result"
    }
   ],
   "source": [
    "dataset_linear.describe()"
   ]
  },
  {
   "cell_type": "code",
   "execution_count": 20,
   "metadata": {},
   "outputs": [
    {
     "data": {
      "text/plain": [
       "Text(0.5,1,'Imputation using Linear Regression')"
      ]
     },
     "execution_count": 20,
     "metadata": {},
     "output_type": "execute_result"
    },
    {
     "data": {
      "image/png": "[encoded data removed]",
      "text/plain": [
       "<Figure size 422.625x360 with 1 Axes>"
      ]
     },
     "metadata": {},
     "output_type": "display_data"
    }
   ],
   "source": [
    "#Plotting the mean of workhours for each class of earners\n",
    "sns.lmplot(\"workhrs\", y=\"rearn\", data=dataset_linear, hue= 'is_imputed', palette=\"Set2_r\",  markers=[\"o\", \"x\"])\n",
    "plt.ylim(0, 420000)\n",
    "plt.xlabel('Work hours')\n",
    "plt.ylabel('Earnings')\n",
    "plt.title('Imputation using Linear Regression')"
   ]
  }
 ],
 "metadata": {
  "kernelspec": {
   "display_name": "Python 3",
   "language": "python",
   "name": "python3"
  },
  "language_info": {
   "codemirror_mode": {
    "name": "ipython",
    "version": 3
   },
   "file_extension": ".py",
   "mimetype": "text/x-python",
   "name": "python",
   "nbconvert_exporter": "python",
   "pygments_lexer": "ipython3",
   "version": "3.7.0"
  }
 },
 "nbformat": 4,
 "nbformat_minor": 2
}
